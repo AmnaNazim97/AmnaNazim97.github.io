{
  "nbformat": 4,
  "nbformat_minor": 0,
  "metadata": {
    "colab": {
      "name": "World_Happiness.ipynb",
      "provenance": [],
      "collapsed_sections": [],
      "authorship_tag": "ABX9TyO7fymFJ7T0nHYrPci6QXdW",
      "include_colab_link": true
    },
    "kernelspec": {
      "name": "python3",
      "display_name": "Python 3"
    }
  },
  "cells": [
    {
      "cell_type": "markdown",
      "metadata": {
        "id": "view-in-github",
        "colab_type": "text"
      },
      "source": [
        "<a href=\"https://colab.research.google.com/github/AmnaNazim97/AmnaNazim97.github.io/blob/master/World_Happiness.ipynb\" target=\"_parent\"><img src=\"https://colab.research.google.com/assets/colab-badge.svg\" alt=\"Open In Colab\"/></a>"
      ]
    },
    {
      "cell_type": "code",
      "metadata": {
        "id": "tXFVKFSwcaFn"
      },
      "source": [
        "#import libraries\n",
        "import pandas as pd\n",
        "import numpy as np \n",
        "import matplotlib.pyplot as plt\n",
        "import seaborn as sns\n"
      ],
      "execution_count": 1,
      "outputs": []
    },
    {
      "cell_type": "code",
      "metadata": {
        "id": "TrcgBUp4c2Hp",
        "outputId": "70a2d99e-4a18-4972-b1e4-8618d2963862",
        "colab": {
          "base_uri": "https://localhost:8080/",
          "height": 356
        }
      },
      "source": [
        "#load data \n",
        "data_2019 = pd.read_csv(\"2019.csv\")\n",
        "data_2018 = pd.read_csv(\"2018.csv\")\n",
        "\n",
        "print(data_2019.head())\n",
        "data_2018.head()"
      ],
      "execution_count": 3,
      "outputs": [
        {
          "output_type": "stream",
          "text": [
            "   Overall rank Country or region  ...  Generosity  Perceptions of corruption\n",
            "0             1           Finland  ...       0.153                      0.393\n",
            "1             2           Denmark  ...       0.252                      0.410\n",
            "2             3            Norway  ...       0.271                      0.341\n",
            "3             4           Iceland  ...       0.354                      0.118\n",
            "4             5       Netherlands  ...       0.322                      0.298\n",
            "\n",
            "[5 rows x 9 columns]\n"
          ],
          "name": "stdout"
        },
        {
          "output_type": "execute_result",
          "data": {
            "text/html": [
              "<div>\n",
              "<style scoped>\n",
              "    .dataframe tbody tr th:only-of-type {\n",
              "        vertical-align: middle;\n",
              "    }\n",
              "\n",
              "    .dataframe tbody tr th {\n",
              "        vertical-align: top;\n",
              "    }\n",
              "\n",
              "    .dataframe thead th {\n",
              "        text-align: right;\n",
              "    }\n",
              "</style>\n",
              "<table border=\"1\" class=\"dataframe\">\n",
              "  <thead>\n",
              "    <tr style=\"text-align: right;\">\n",
              "      <th></th>\n",
              "      <th>Overall rank</th>\n",
              "      <th>Country or region</th>\n",
              "      <th>Score</th>\n",
              "      <th>GDP per capita</th>\n",
              "      <th>Social support</th>\n",
              "      <th>Healthy life expectancy</th>\n",
              "      <th>Freedom to make life choices</th>\n",
              "      <th>Generosity</th>\n",
              "      <th>Perceptions of corruption</th>\n",
              "    </tr>\n",
              "  </thead>\n",
              "  <tbody>\n",
              "    <tr>\n",
              "      <th>0</th>\n",
              "      <td>1</td>\n",
              "      <td>Finland</td>\n",
              "      <td>7.632</td>\n",
              "      <td>1.305</td>\n",
              "      <td>1.592</td>\n",
              "      <td>0.874</td>\n",
              "      <td>0.681</td>\n",
              "      <td>0.202</td>\n",
              "      <td>0.393</td>\n",
              "    </tr>\n",
              "    <tr>\n",
              "      <th>1</th>\n",
              "      <td>2</td>\n",
              "      <td>Norway</td>\n",
              "      <td>7.594</td>\n",
              "      <td>1.456</td>\n",
              "      <td>1.582</td>\n",
              "      <td>0.861</td>\n",
              "      <td>0.686</td>\n",
              "      <td>0.286</td>\n",
              "      <td>0.340</td>\n",
              "    </tr>\n",
              "    <tr>\n",
              "      <th>2</th>\n",
              "      <td>3</td>\n",
              "      <td>Denmark</td>\n",
              "      <td>7.555</td>\n",
              "      <td>1.351</td>\n",
              "      <td>1.590</td>\n",
              "      <td>0.868</td>\n",
              "      <td>0.683</td>\n",
              "      <td>0.284</td>\n",
              "      <td>0.408</td>\n",
              "    </tr>\n",
              "    <tr>\n",
              "      <th>3</th>\n",
              "      <td>4</td>\n",
              "      <td>Iceland</td>\n",
              "      <td>7.495</td>\n",
              "      <td>1.343</td>\n",
              "      <td>1.644</td>\n",
              "      <td>0.914</td>\n",
              "      <td>0.677</td>\n",
              "      <td>0.353</td>\n",
              "      <td>0.138</td>\n",
              "    </tr>\n",
              "    <tr>\n",
              "      <th>4</th>\n",
              "      <td>5</td>\n",
              "      <td>Switzerland</td>\n",
              "      <td>7.487</td>\n",
              "      <td>1.420</td>\n",
              "      <td>1.549</td>\n",
              "      <td>0.927</td>\n",
              "      <td>0.660</td>\n",
              "      <td>0.256</td>\n",
              "      <td>0.357</td>\n",
              "    </tr>\n",
              "  </tbody>\n",
              "</table>\n",
              "</div>"
            ],
            "text/plain": [
              "   Overall rank Country or region  ...  Generosity  Perceptions of corruption\n",
              "0             1           Finland  ...       0.202                      0.393\n",
              "1             2            Norway  ...       0.286                      0.340\n",
              "2             3           Denmark  ...       0.284                      0.408\n",
              "3             4           Iceland  ...       0.353                      0.138\n",
              "4             5       Switzerland  ...       0.256                      0.357\n",
              "\n",
              "[5 rows x 9 columns]"
            ]
          },
          "metadata": {
            "tags": []
          },
          "execution_count": 3
        }
      ]
    },
    {
      "cell_type": "markdown",
      "metadata": {
        "id": "y1pleNa6d08h"
      },
      "source": [
        "Loading the dataset of year 2018 and year 2019. The data set has been downloaded from kaggle "
      ]
    },
    {
      "cell_type": "code",
      "metadata": {
        "id": "OX0-_lWVdPrm",
        "outputId": "4c039c3d-01d6-4b71-d366-6071dc3e42b0",
        "colab": {
          "base_uri": "https://localhost:8080/",
          "height": 304
        }
      },
      "source": [
        "data_2018.describe()"
      ],
      "execution_count": 4,
      "outputs": [
        {
          "output_type": "execute_result",
          "data": {
            "text/html": [
              "<div>\n",
              "<style scoped>\n",
              "    .dataframe tbody tr th:only-of-type {\n",
              "        vertical-align: middle;\n",
              "    }\n",
              "\n",
              "    .dataframe tbody tr th {\n",
              "        vertical-align: top;\n",
              "    }\n",
              "\n",
              "    .dataframe thead th {\n",
              "        text-align: right;\n",
              "    }\n",
              "</style>\n",
              "<table border=\"1\" class=\"dataframe\">\n",
              "  <thead>\n",
              "    <tr style=\"text-align: right;\">\n",
              "      <th></th>\n",
              "      <th>Overall rank</th>\n",
              "      <th>Score</th>\n",
              "      <th>GDP per capita</th>\n",
              "      <th>Social support</th>\n",
              "      <th>Healthy life expectancy</th>\n",
              "      <th>Freedom to make life choices</th>\n",
              "      <th>Generosity</th>\n",
              "      <th>Perceptions of corruption</th>\n",
              "    </tr>\n",
              "  </thead>\n",
              "  <tbody>\n",
              "    <tr>\n",
              "      <th>count</th>\n",
              "      <td>156.000000</td>\n",
              "      <td>156.000000</td>\n",
              "      <td>156.000000</td>\n",
              "      <td>156.000000</td>\n",
              "      <td>156.000000</td>\n",
              "      <td>156.000000</td>\n",
              "      <td>156.000000</td>\n",
              "      <td>155.000000</td>\n",
              "    </tr>\n",
              "    <tr>\n",
              "      <th>mean</th>\n",
              "      <td>78.500000</td>\n",
              "      <td>5.375917</td>\n",
              "      <td>0.891449</td>\n",
              "      <td>1.213237</td>\n",
              "      <td>0.597346</td>\n",
              "      <td>0.454506</td>\n",
              "      <td>0.181006</td>\n",
              "      <td>0.112000</td>\n",
              "    </tr>\n",
              "    <tr>\n",
              "      <th>std</th>\n",
              "      <td>45.177428</td>\n",
              "      <td>1.119506</td>\n",
              "      <td>0.391921</td>\n",
              "      <td>0.302372</td>\n",
              "      <td>0.247579</td>\n",
              "      <td>0.162424</td>\n",
              "      <td>0.098471</td>\n",
              "      <td>0.096492</td>\n",
              "    </tr>\n",
              "    <tr>\n",
              "      <th>min</th>\n",
              "      <td>1.000000</td>\n",
              "      <td>2.905000</td>\n",
              "      <td>0.000000</td>\n",
              "      <td>0.000000</td>\n",
              "      <td>0.000000</td>\n",
              "      <td>0.000000</td>\n",
              "      <td>0.000000</td>\n",
              "      <td>0.000000</td>\n",
              "    </tr>\n",
              "    <tr>\n",
              "      <th>25%</th>\n",
              "      <td>39.750000</td>\n",
              "      <td>4.453750</td>\n",
              "      <td>0.616250</td>\n",
              "      <td>1.066750</td>\n",
              "      <td>0.422250</td>\n",
              "      <td>0.356000</td>\n",
              "      <td>0.109500</td>\n",
              "      <td>0.051000</td>\n",
              "    </tr>\n",
              "    <tr>\n",
              "      <th>50%</th>\n",
              "      <td>78.500000</td>\n",
              "      <td>5.378000</td>\n",
              "      <td>0.949500</td>\n",
              "      <td>1.255000</td>\n",
              "      <td>0.644000</td>\n",
              "      <td>0.487000</td>\n",
              "      <td>0.174000</td>\n",
              "      <td>0.082000</td>\n",
              "    </tr>\n",
              "    <tr>\n",
              "      <th>75%</th>\n",
              "      <td>117.250000</td>\n",
              "      <td>6.168500</td>\n",
              "      <td>1.197750</td>\n",
              "      <td>1.463000</td>\n",
              "      <td>0.777250</td>\n",
              "      <td>0.578500</td>\n",
              "      <td>0.239000</td>\n",
              "      <td>0.137000</td>\n",
              "    </tr>\n",
              "    <tr>\n",
              "      <th>max</th>\n",
              "      <td>156.000000</td>\n",
              "      <td>7.632000</td>\n",
              "      <td>2.096000</td>\n",
              "      <td>1.644000</td>\n",
              "      <td>1.030000</td>\n",
              "      <td>0.724000</td>\n",
              "      <td>0.598000</td>\n",
              "      <td>0.457000</td>\n",
              "    </tr>\n",
              "  </tbody>\n",
              "</table>\n",
              "</div>"
            ],
            "text/plain": [
              "       Overall rank       Score  ...  Generosity  Perceptions of corruption\n",
              "count    156.000000  156.000000  ...  156.000000                 155.000000\n",
              "mean      78.500000    5.375917  ...    0.181006                   0.112000\n",
              "std       45.177428    1.119506  ...    0.098471                   0.096492\n",
              "min        1.000000    2.905000  ...    0.000000                   0.000000\n",
              "25%       39.750000    4.453750  ...    0.109500                   0.051000\n",
              "50%       78.500000    5.378000  ...    0.174000                   0.082000\n",
              "75%      117.250000    6.168500  ...    0.239000                   0.137000\n",
              "max      156.000000    7.632000  ...    0.598000                   0.457000\n",
              "\n",
              "[8 rows x 8 columns]"
            ]
          },
          "metadata": {
            "tags": []
          },
          "execution_count": 4
        }
      ]
    },
    {
      "cell_type": "code",
      "metadata": {
        "id": "5DLITKR5eDI0",
        "outputId": "452db747-835d-4a5d-b11f-59c7abffdc84",
        "colab": {
          "base_uri": "https://localhost:8080/",
          "height": 304
        }
      },
      "source": [
        "data_2019.describe()"
      ],
      "execution_count": 5,
      "outputs": [
        {
          "output_type": "execute_result",
          "data": {
            "text/html": [
              "<div>\n",
              "<style scoped>\n",
              "    .dataframe tbody tr th:only-of-type {\n",
              "        vertical-align: middle;\n",
              "    }\n",
              "\n",
              "    .dataframe tbody tr th {\n",
              "        vertical-align: top;\n",
              "    }\n",
              "\n",
              "    .dataframe thead th {\n",
              "        text-align: right;\n",
              "    }\n",
              "</style>\n",
              "<table border=\"1\" class=\"dataframe\">\n",
              "  <thead>\n",
              "    <tr style=\"text-align: right;\">\n",
              "      <th></th>\n",
              "      <th>Overall rank</th>\n",
              "      <th>Score</th>\n",
              "      <th>GDP per capita</th>\n",
              "      <th>Social support</th>\n",
              "      <th>Healthy life expectancy</th>\n",
              "      <th>Freedom to make life choices</th>\n",
              "      <th>Generosity</th>\n",
              "      <th>Perceptions of corruption</th>\n",
              "    </tr>\n",
              "  </thead>\n",
              "  <tbody>\n",
              "    <tr>\n",
              "      <th>count</th>\n",
              "      <td>156.000000</td>\n",
              "      <td>156.000000</td>\n",
              "      <td>156.000000</td>\n",
              "      <td>156.000000</td>\n",
              "      <td>156.000000</td>\n",
              "      <td>156.000000</td>\n",
              "      <td>156.000000</td>\n",
              "      <td>156.000000</td>\n",
              "    </tr>\n",
              "    <tr>\n",
              "      <th>mean</th>\n",
              "      <td>78.500000</td>\n",
              "      <td>5.407096</td>\n",
              "      <td>0.905147</td>\n",
              "      <td>1.208814</td>\n",
              "      <td>0.725244</td>\n",
              "      <td>0.392571</td>\n",
              "      <td>0.184846</td>\n",
              "      <td>0.110603</td>\n",
              "    </tr>\n",
              "    <tr>\n",
              "      <th>std</th>\n",
              "      <td>45.177428</td>\n",
              "      <td>1.113120</td>\n",
              "      <td>0.398389</td>\n",
              "      <td>0.299191</td>\n",
              "      <td>0.242124</td>\n",
              "      <td>0.143289</td>\n",
              "      <td>0.095254</td>\n",
              "      <td>0.094538</td>\n",
              "    </tr>\n",
              "    <tr>\n",
              "      <th>min</th>\n",
              "      <td>1.000000</td>\n",
              "      <td>2.853000</td>\n",
              "      <td>0.000000</td>\n",
              "      <td>0.000000</td>\n",
              "      <td>0.000000</td>\n",
              "      <td>0.000000</td>\n",
              "      <td>0.000000</td>\n",
              "      <td>0.000000</td>\n",
              "    </tr>\n",
              "    <tr>\n",
              "      <th>25%</th>\n",
              "      <td>39.750000</td>\n",
              "      <td>4.544500</td>\n",
              "      <td>0.602750</td>\n",
              "      <td>1.055750</td>\n",
              "      <td>0.547750</td>\n",
              "      <td>0.308000</td>\n",
              "      <td>0.108750</td>\n",
              "      <td>0.047000</td>\n",
              "    </tr>\n",
              "    <tr>\n",
              "      <th>50%</th>\n",
              "      <td>78.500000</td>\n",
              "      <td>5.379500</td>\n",
              "      <td>0.960000</td>\n",
              "      <td>1.271500</td>\n",
              "      <td>0.789000</td>\n",
              "      <td>0.417000</td>\n",
              "      <td>0.177500</td>\n",
              "      <td>0.085500</td>\n",
              "    </tr>\n",
              "    <tr>\n",
              "      <th>75%</th>\n",
              "      <td>117.250000</td>\n",
              "      <td>6.184500</td>\n",
              "      <td>1.232500</td>\n",
              "      <td>1.452500</td>\n",
              "      <td>0.881750</td>\n",
              "      <td>0.507250</td>\n",
              "      <td>0.248250</td>\n",
              "      <td>0.141250</td>\n",
              "    </tr>\n",
              "    <tr>\n",
              "      <th>max</th>\n",
              "      <td>156.000000</td>\n",
              "      <td>7.769000</td>\n",
              "      <td>1.684000</td>\n",
              "      <td>1.624000</td>\n",
              "      <td>1.141000</td>\n",
              "      <td>0.631000</td>\n",
              "      <td>0.566000</td>\n",
              "      <td>0.453000</td>\n",
              "    </tr>\n",
              "  </tbody>\n",
              "</table>\n",
              "</div>"
            ],
            "text/plain": [
              "       Overall rank       Score  ...  Generosity  Perceptions of corruption\n",
              "count    156.000000  156.000000  ...  156.000000                 156.000000\n",
              "mean      78.500000    5.407096  ...    0.184846                   0.110603\n",
              "std       45.177428    1.113120  ...    0.095254                   0.094538\n",
              "min        1.000000    2.853000  ...    0.000000                   0.000000\n",
              "25%       39.750000    4.544500  ...    0.108750                   0.047000\n",
              "50%       78.500000    5.379500  ...    0.177500                   0.085500\n",
              "75%      117.250000    6.184500  ...    0.248250                   0.141250\n",
              "max      156.000000    7.769000  ...    0.566000                   0.453000\n",
              "\n",
              "[8 rows x 8 columns]"
            ]
          },
          "metadata": {
            "tags": []
          },
          "execution_count": 5
        }
      ]
    },
    {
      "cell_type": "markdown",
      "metadata": {
        "id": "TqQKSYvtdaPo"
      },
      "source": [
        "The data consist of 158 countries/ regions and has following 7 features\n",
        "1. Score\n",
        "2. GDP per capita\n",
        "3. Social Support\n",
        "4. Healthy life expectancy\n",
        "5. Freedom to make life choices\n",
        "6. Generosity\n",
        "7. Perceptions of corruption\n"
      ]
    },
    {
      "cell_type": "code",
      "metadata": {
        "id": "tCjKIXyUeGOq"
      },
      "source": [
        ""
      ],
      "execution_count": null,
      "outputs": []
    },
    {
      "cell_type": "markdown",
      "metadata": {
        "id": "u_863OIafKZR"
      },
      "source": [
        "In order to find out the columns and data types of each column use the following function\n"
      ]
    },
    {
      "cell_type": "code",
      "metadata": {
        "id": "eS3GmcC4dyKD",
        "outputId": "916e30f9-16dc-4591-ecf3-b26dc8caadac",
        "colab": {
          "base_uri": "https://localhost:8080/"
        }
      },
      "source": [
        "data_2018.info()"
      ],
      "execution_count": 6,
      "outputs": [
        {
          "output_type": "stream",
          "text": [
            "<class 'pandas.core.frame.DataFrame'>\n",
            "RangeIndex: 156 entries, 0 to 155\n",
            "Data columns (total 9 columns):\n",
            " #   Column                        Non-Null Count  Dtype  \n",
            "---  ------                        --------------  -----  \n",
            " 0   Overall rank                  156 non-null    int64  \n",
            " 1   Country or region             156 non-null    object \n",
            " 2   Score                         156 non-null    float64\n",
            " 3   GDP per capita                156 non-null    float64\n",
            " 4   Social support                156 non-null    float64\n",
            " 5   Healthy life expectancy       156 non-null    float64\n",
            " 6   Freedom to make life choices  156 non-null    float64\n",
            " 7   Generosity                    156 non-null    float64\n",
            " 8   Perceptions of corruption     155 non-null    float64\n",
            "dtypes: float64(7), int64(1), object(1)\n",
            "memory usage: 11.1+ KB\n"
          ],
          "name": "stdout"
        }
      ]
    },
    {
      "cell_type": "code",
      "metadata": {
        "id": "ghOG1CuafSkv",
        "outputId": "0ee055b3-8064-44ba-bb8a-fd2eeb9dc5e5",
        "colab": {
          "base_uri": "https://localhost:8080/"
        }
      },
      "source": [
        "data_2019.info()"
      ],
      "execution_count": 7,
      "outputs": [
        {
          "output_type": "stream",
          "text": [
            "<class 'pandas.core.frame.DataFrame'>\n",
            "RangeIndex: 156 entries, 0 to 155\n",
            "Data columns (total 9 columns):\n",
            " #   Column                        Non-Null Count  Dtype  \n",
            "---  ------                        --------------  -----  \n",
            " 0   Overall rank                  156 non-null    int64  \n",
            " 1   Country or region             156 non-null    object \n",
            " 2   Score                         156 non-null    float64\n",
            " 3   GDP per capita                156 non-null    float64\n",
            " 4   Social support                156 non-null    float64\n",
            " 5   Healthy life expectancy       156 non-null    float64\n",
            " 6   Freedom to make life choices  156 non-null    float64\n",
            " 7   Generosity                    156 non-null    float64\n",
            " 8   Perceptions of corruption     156 non-null    float64\n",
            "dtypes: float64(7), int64(1), object(1)\n",
            "memory usage: 11.1+ KB\n"
          ],
          "name": "stdout"
        }
      ]
    },
    {
      "cell_type": "code",
      "metadata": {
        "id": "PUkeccCVfXTk",
        "outputId": "15eb0dd9-59a9-489f-fe9d-a2c3716dc76e",
        "colab": {
          "base_uri": "https://localhost:8080/",
          "height": 337
        }
      },
      "source": [
        "data_2018.corr()"
      ],
      "execution_count": 8,
      "outputs": [
        {
          "output_type": "execute_result",
          "data": {
            "text/html": [
              "<div>\n",
              "<style scoped>\n",
              "    .dataframe tbody tr th:only-of-type {\n",
              "        vertical-align: middle;\n",
              "    }\n",
              "\n",
              "    .dataframe tbody tr th {\n",
              "        vertical-align: top;\n",
              "    }\n",
              "\n",
              "    .dataframe thead th {\n",
              "        text-align: right;\n",
              "    }\n",
              "</style>\n",
              "<table border=\"1\" class=\"dataframe\">\n",
              "  <thead>\n",
              "    <tr style=\"text-align: right;\">\n",
              "      <th></th>\n",
              "      <th>Overall rank</th>\n",
              "      <th>Score</th>\n",
              "      <th>GDP per capita</th>\n",
              "      <th>Social support</th>\n",
              "      <th>Healthy life expectancy</th>\n",
              "      <th>Freedom to make life choices</th>\n",
              "      <th>Generosity</th>\n",
              "      <th>Perceptions of corruption</th>\n",
              "    </tr>\n",
              "  </thead>\n",
              "  <tbody>\n",
              "    <tr>\n",
              "      <th>Overall rank</th>\n",
              "      <td>1.000000</td>\n",
              "      <td>-0.991749</td>\n",
              "      <td>-0.805897</td>\n",
              "      <td>-0.737500</td>\n",
              "      <td>-0.778700</td>\n",
              "      <td>-0.530786</td>\n",
              "      <td>-0.103602</td>\n",
              "      <td>-0.371133</td>\n",
              "    </tr>\n",
              "    <tr>\n",
              "      <th>Score</th>\n",
              "      <td>-0.991749</td>\n",
              "      <td>1.000000</td>\n",
              "      <td>0.802124</td>\n",
              "      <td>0.745760</td>\n",
              "      <td>0.775814</td>\n",
              "      <td>0.544280</td>\n",
              "      <td>0.135825</td>\n",
              "      <td>0.405292</td>\n",
              "    </tr>\n",
              "    <tr>\n",
              "      <th>GDP per capita</th>\n",
              "      <td>-0.805897</td>\n",
              "      <td>0.802124</td>\n",
              "      <td>1.000000</td>\n",
              "      <td>0.672080</td>\n",
              "      <td>0.844273</td>\n",
              "      <td>0.332275</td>\n",
              "      <td>-0.011241</td>\n",
              "      <td>0.319582</td>\n",
              "    </tr>\n",
              "    <tr>\n",
              "      <th>Social support</th>\n",
              "      <td>-0.737500</td>\n",
              "      <td>0.745760</td>\n",
              "      <td>0.672080</td>\n",
              "      <td>1.000000</td>\n",
              "      <td>0.667288</td>\n",
              "      <td>0.411087</td>\n",
              "      <td>0.018226</td>\n",
              "      <td>0.218364</td>\n",
              "    </tr>\n",
              "    <tr>\n",
              "      <th>Healthy life expectancy</th>\n",
              "      <td>-0.778700</td>\n",
              "      <td>0.775814</td>\n",
              "      <td>0.844273</td>\n",
              "      <td>0.667288</td>\n",
              "      <td>1.000000</td>\n",
              "      <td>0.355475</td>\n",
              "      <td>0.020751</td>\n",
              "      <td>0.315569</td>\n",
              "    </tr>\n",
              "    <tr>\n",
              "      <th>Freedom to make life choices</th>\n",
              "      <td>-0.530786</td>\n",
              "      <td>0.544280</td>\n",
              "      <td>0.332275</td>\n",
              "      <td>0.411087</td>\n",
              "      <td>0.355475</td>\n",
              "      <td>1.000000</td>\n",
              "      <td>0.297988</td>\n",
              "      <td>0.462446</td>\n",
              "    </tr>\n",
              "    <tr>\n",
              "      <th>Generosity</th>\n",
              "      <td>-0.103602</td>\n",
              "      <td>0.135825</td>\n",
              "      <td>-0.011241</td>\n",
              "      <td>0.018226</td>\n",
              "      <td>0.020751</td>\n",
              "      <td>0.297988</td>\n",
              "      <td>1.000000</td>\n",
              "      <td>0.362249</td>\n",
              "    </tr>\n",
              "    <tr>\n",
              "      <th>Perceptions of corruption</th>\n",
              "      <td>-0.371133</td>\n",
              "      <td>0.405292</td>\n",
              "      <td>0.319582</td>\n",
              "      <td>0.218364</td>\n",
              "      <td>0.315569</td>\n",
              "      <td>0.462446</td>\n",
              "      <td>0.362249</td>\n",
              "      <td>1.000000</td>\n",
              "    </tr>\n",
              "  </tbody>\n",
              "</table>\n",
              "</div>"
            ],
            "text/plain": [
              "                              Overall rank  ...  Perceptions of corruption\n",
              "Overall rank                      1.000000  ...                  -0.371133\n",
              "Score                            -0.991749  ...                   0.405292\n",
              "GDP per capita                   -0.805897  ...                   0.319582\n",
              "Social support                   -0.737500  ...                   0.218364\n",
              "Healthy life expectancy          -0.778700  ...                   0.315569\n",
              "Freedom to make life choices     -0.530786  ...                   0.462446\n",
              "Generosity                       -0.103602  ...                   0.362249\n",
              "Perceptions of corruption        -0.371133  ...                   1.000000\n",
              "\n",
              "[8 rows x 8 columns]"
            ]
          },
          "metadata": {
            "tags": []
          },
          "execution_count": 8
        }
      ]
    },
    {
      "cell_type": "code",
      "metadata": {
        "id": "rsMarNWRfcEm",
        "outputId": "e9afe0ed-ce7d-469d-c70d-163dbaf0f83d",
        "colab": {
          "base_uri": "https://localhost:8080/",
          "height": 337
        }
      },
      "source": [
        "data_2019.corr()"
      ],
      "execution_count": 10,
      "outputs": [
        {
          "output_type": "execute_result",
          "data": {
            "text/html": [
              "<div>\n",
              "<style scoped>\n",
              "    .dataframe tbody tr th:only-of-type {\n",
              "        vertical-align: middle;\n",
              "    }\n",
              "\n",
              "    .dataframe tbody tr th {\n",
              "        vertical-align: top;\n",
              "    }\n",
              "\n",
              "    .dataframe thead th {\n",
              "        text-align: right;\n",
              "    }\n",
              "</style>\n",
              "<table border=\"1\" class=\"dataframe\">\n",
              "  <thead>\n",
              "    <tr style=\"text-align: right;\">\n",
              "      <th></th>\n",
              "      <th>Overall rank</th>\n",
              "      <th>Score</th>\n",
              "      <th>GDP per capita</th>\n",
              "      <th>Social support</th>\n",
              "      <th>Healthy life expectancy</th>\n",
              "      <th>Freedom to make life choices</th>\n",
              "      <th>Generosity</th>\n",
              "      <th>Perceptions of corruption</th>\n",
              "    </tr>\n",
              "  </thead>\n",
              "  <tbody>\n",
              "    <tr>\n",
              "      <th>Overall rank</th>\n",
              "      <td>1.000000</td>\n",
              "      <td>-0.989096</td>\n",
              "      <td>-0.801947</td>\n",
              "      <td>-0.767465</td>\n",
              "      <td>-0.787411</td>\n",
              "      <td>-0.546606</td>\n",
              "      <td>-0.047993</td>\n",
              "      <td>-0.351959</td>\n",
              "    </tr>\n",
              "    <tr>\n",
              "      <th>Score</th>\n",
              "      <td>-0.989096</td>\n",
              "      <td>1.000000</td>\n",
              "      <td>0.793883</td>\n",
              "      <td>0.777058</td>\n",
              "      <td>0.779883</td>\n",
              "      <td>0.566742</td>\n",
              "      <td>0.075824</td>\n",
              "      <td>0.385613</td>\n",
              "    </tr>\n",
              "    <tr>\n",
              "      <th>GDP per capita</th>\n",
              "      <td>-0.801947</td>\n",
              "      <td>0.793883</td>\n",
              "      <td>1.000000</td>\n",
              "      <td>0.754906</td>\n",
              "      <td>0.835462</td>\n",
              "      <td>0.379079</td>\n",
              "      <td>-0.079662</td>\n",
              "      <td>0.298920</td>\n",
              "    </tr>\n",
              "    <tr>\n",
              "      <th>Social support</th>\n",
              "      <td>-0.767465</td>\n",
              "      <td>0.777058</td>\n",
              "      <td>0.754906</td>\n",
              "      <td>1.000000</td>\n",
              "      <td>0.719009</td>\n",
              "      <td>0.447333</td>\n",
              "      <td>-0.048126</td>\n",
              "      <td>0.181899</td>\n",
              "    </tr>\n",
              "    <tr>\n",
              "      <th>Healthy life expectancy</th>\n",
              "      <td>-0.787411</td>\n",
              "      <td>0.779883</td>\n",
              "      <td>0.835462</td>\n",
              "      <td>0.719009</td>\n",
              "      <td>1.000000</td>\n",
              "      <td>0.390395</td>\n",
              "      <td>-0.029511</td>\n",
              "      <td>0.295283</td>\n",
              "    </tr>\n",
              "    <tr>\n",
              "      <th>Freedom to make life choices</th>\n",
              "      <td>-0.546606</td>\n",
              "      <td>0.566742</td>\n",
              "      <td>0.379079</td>\n",
              "      <td>0.447333</td>\n",
              "      <td>0.390395</td>\n",
              "      <td>1.000000</td>\n",
              "      <td>0.269742</td>\n",
              "      <td>0.438843</td>\n",
              "    </tr>\n",
              "    <tr>\n",
              "      <th>Generosity</th>\n",
              "      <td>-0.047993</td>\n",
              "      <td>0.075824</td>\n",
              "      <td>-0.079662</td>\n",
              "      <td>-0.048126</td>\n",
              "      <td>-0.029511</td>\n",
              "      <td>0.269742</td>\n",
              "      <td>1.000000</td>\n",
              "      <td>0.326538</td>\n",
              "    </tr>\n",
              "    <tr>\n",
              "      <th>Perceptions of corruption</th>\n",
              "      <td>-0.351959</td>\n",
              "      <td>0.385613</td>\n",
              "      <td>0.298920</td>\n",
              "      <td>0.181899</td>\n",
              "      <td>0.295283</td>\n",
              "      <td>0.438843</td>\n",
              "      <td>0.326538</td>\n",
              "      <td>1.000000</td>\n",
              "    </tr>\n",
              "  </tbody>\n",
              "</table>\n",
              "</div>"
            ],
            "text/plain": [
              "                              Overall rank  ...  Perceptions of corruption\n",
              "Overall rank                      1.000000  ...                  -0.351959\n",
              "Score                            -0.989096  ...                   0.385613\n",
              "GDP per capita                   -0.801947  ...                   0.298920\n",
              "Social support                   -0.767465  ...                   0.181899\n",
              "Healthy life expectancy          -0.787411  ...                   0.295283\n",
              "Freedom to make life choices     -0.546606  ...                   0.438843\n",
              "Generosity                       -0.047993  ...                   0.326538\n",
              "Perceptions of corruption        -0.351959  ...                   1.000000\n",
              "\n",
              "[8 rows x 8 columns]"
            ]
          },
          "metadata": {
            "tags": []
          },
          "execution_count": 10
        }
      ]
    },
    {
      "cell_type": "code",
      "metadata": {
        "id": "0SOnii9wffJW",
        "outputId": "2ea49e73-d8cf-4213-895f-0a81cfd8cc3c",
        "colab": {
          "base_uri": "https://localhost:8080/",
          "height": 278
        }
      },
      "source": [
        "plt.plot(data_2018['Country or region'] ,data_2018['Healthy life expectancy'])\n",
        "plt.xlabel(\"Country\")\n",
        "plt.ylabel(\"Healthy life expectancy\")\n",
        "plt.show()"
      ],
      "execution_count": 13,
      "outputs": [
        {
          "output_type": "display_data",
          "data": {
            "image/png": "[encoded data removed]",
            "text/plain": [
              "<Figure size 432x288 with 1 Axes>"
            ]
          },
          "metadata": {
            "tags": [],
            "needs_background": "light"
          }
        }
      ]
    },
    {
      "cell_type": "markdown",
      "metadata": {
        "id": "98ey_PU6gk--"
      },
      "source": [
        "The graph tend to be very merged because it has 158 countries on X axis "
      ]
    },
    {
      "cell_type": "code",
      "metadata": {
        "id": "ATEcvsyXgV7l",
        "outputId": "f7005507-bb7b-4531-f056-1db4d889d8d9",
        "colab": {
          "base_uri": "https://localhost:8080/",
          "height": 278
        }
      },
      "source": [
        "plt.plot(data_2019['Country or region'] ,data_2019['Healthy life expectancy'])\n",
        "plt.xlabel(\"Country\")\n",
        "plt.ylabel(\"Healthy life expectancy\")\n",
        "plt.show()"
      ],
      "execution_count": 14,
      "outputs": [
        {
          "output_type": "display_data",
          "data": {
            "image/png": "[encoded data removed]",
            "text/plain": [
              "<Figure size 432x288 with 1 Axes>"
            ]
          },
          "metadata": {
            "tags": [],
            "needs_background": "light"
          }
        }
      ]
    },
    {
      "cell_type": "code",
      "metadata": {
        "id": "Gb6BIjtfhE20"
      },
      "source": [
        "from sklearn.linear_model import LinearRegression\n",
        "from sklearn.model_selection import train_test_split"
      ],
      "execution_count": 15,
      "outputs": []
    },
    {
      "cell_type": "code",
      "metadata": {
        "id": "c4TsPVnxha0Z",
        "outputId": "13758608-d385-489f-b192-8761fd3b4898",
        "colab": {
          "base_uri": "https://localhost:8080/"
        }
      },
      "source": [
        "#to check if data has missing value\n",
        "count_nan_2018 = data_2018.isnull().sum()\n",
        "print(count_nan_2018[count_nan_2018>0])"
      ],
      "execution_count": 16,
      "outputs": [
        {
          "output_type": "stream",
          "text": [
            "Perceptions of corruption    1\n",
            "dtype: int64\n"
          ],
          "name": "stdout"
        }
      ]
    },
    {
      "cell_type": "markdown",
      "metadata": {
        "id": "1Oio5lUsiAS4"
      },
      "source": [
        "To fill the missing value for the column Perceptions of Corruption we will do mean imputation"
      ]
    },
    {
      "cell_type": "code",
      "metadata": {
        "id": "f5iNSDcCh9MZ"
      },
      "source": [
        "data_2018['Perceptions of corruption'].fillna(data_2018['Perceptions of corruption'].mean(), inplace=True)"
      ],
      "execution_count": 18,
      "outputs": []
    },
    {
      "cell_type": "markdown",
      "metadata": {
        "id": "S2jO7k1Hiom-"
      },
      "source": [
        "to split data in train and test "
      ]
    },
    {
      "cell_type": "code",
      "metadata": {
        "id": "OQYxXpV2iaJE",
        "outputId": "be138cf8-258d-4de3-f32d-648bc13e4cf0",
        "colab": {
          "base_uri": "https://localhost:8080/",
          "height": 406
        }
      },
      "source": [
        "X = data_2018.iloc[:,3:]\n",
        "X"
      ],
      "execution_count": 23,
      "outputs": [
        {
          "output_type": "execute_result",
          "data": {
            "text/html": [
              "<div>\n",
              "<style scoped>\n",
              "    .dataframe tbody tr th:only-of-type {\n",
              "        vertical-align: middle;\n",
              "    }\n",
              "\n",
              "    .dataframe tbody tr th {\n",
              "        vertical-align: top;\n",
              "    }\n",
              "\n",
              "    .dataframe thead th {\n",
              "        text-align: right;\n",
              "    }\n",
              "</style>\n",
              "<table border=\"1\" class=\"dataframe\">\n",
              "  <thead>\n",
              "    <tr style=\"text-align: right;\">\n",
              "      <th></th>\n",
              "      <th>GDP per capita</th>\n",
              "      <th>Social support</th>\n",
              "      <th>Healthy life expectancy</th>\n",
              "      <th>Freedom to make life choices</th>\n",
              "      <th>Generosity</th>\n",
              "      <th>Perceptions of corruption</th>\n",
              "    </tr>\n",
              "  </thead>\n",
              "  <tbody>\n",
              "    <tr>\n",
              "      <th>0</th>\n",
              "      <td>1.305</td>\n",
              "      <td>1.592</td>\n",
              "      <td>0.874</td>\n",
              "      <td>0.681</td>\n",
              "      <td>0.202</td>\n",
              "      <td>0.393</td>\n",
              "    </tr>\n",
              "    <tr>\n",
              "      <th>1</th>\n",
              "      <td>1.456</td>\n",
              "      <td>1.582</td>\n",
              "      <td>0.861</td>\n",
              "      <td>0.686</td>\n",
              "      <td>0.286</td>\n",
              "      <td>0.340</td>\n",
              "    </tr>\n",
              "    <tr>\n",
              "      <th>2</th>\n",
              "      <td>1.351</td>\n",
              "      <td>1.590</td>\n",
              "      <td>0.868</td>\n",
              "      <td>0.683</td>\n",
              "      <td>0.284</td>\n",
              "      <td>0.408</td>\n",
              "    </tr>\n",
              "    <tr>\n",
              "      <th>3</th>\n",
              "      <td>1.343</td>\n",
              "      <td>1.644</td>\n",
              "      <td>0.914</td>\n",
              "      <td>0.677</td>\n",
              "      <td>0.353</td>\n",
              "      <td>0.138</td>\n",
              "    </tr>\n",
              "    <tr>\n",
              "      <th>4</th>\n",
              "      <td>1.420</td>\n",
              "      <td>1.549</td>\n",
              "      <td>0.927</td>\n",
              "      <td>0.660</td>\n",
              "      <td>0.256</td>\n",
              "      <td>0.357</td>\n",
              "    </tr>\n",
              "    <tr>\n",
              "      <th>...</th>\n",
              "      <td>...</td>\n",
              "      <td>...</td>\n",
              "      <td>...</td>\n",
              "      <td>...</td>\n",
              "      <td>...</td>\n",
              "      <td>...</td>\n",
              "    </tr>\n",
              "    <tr>\n",
              "      <th>151</th>\n",
              "      <td>0.442</td>\n",
              "      <td>1.073</td>\n",
              "      <td>0.343</td>\n",
              "      <td>0.244</td>\n",
              "      <td>0.083</td>\n",
              "      <td>0.064</td>\n",
              "    </tr>\n",
              "    <tr>\n",
              "      <th>152</th>\n",
              "      <td>0.455</td>\n",
              "      <td>0.991</td>\n",
              "      <td>0.381</td>\n",
              "      <td>0.481</td>\n",
              "      <td>0.270</td>\n",
              "      <td>0.097</td>\n",
              "    </tr>\n",
              "    <tr>\n",
              "      <th>153</th>\n",
              "      <td>0.337</td>\n",
              "      <td>0.608</td>\n",
              "      <td>0.177</td>\n",
              "      <td>0.112</td>\n",
              "      <td>0.224</td>\n",
              "      <td>0.106</td>\n",
              "    </tr>\n",
              "    <tr>\n",
              "      <th>154</th>\n",
              "      <td>0.024</td>\n",
              "      <td>0.000</td>\n",
              "      <td>0.010</td>\n",
              "      <td>0.305</td>\n",
              "      <td>0.218</td>\n",
              "      <td>0.038</td>\n",
              "    </tr>\n",
              "    <tr>\n",
              "      <th>155</th>\n",
              "      <td>0.091</td>\n",
              "      <td>0.627</td>\n",
              "      <td>0.145</td>\n",
              "      <td>0.065</td>\n",
              "      <td>0.149</td>\n",
              "      <td>0.076</td>\n",
              "    </tr>\n",
              "  </tbody>\n",
              "</table>\n",
              "<p>156 rows × 6 columns</p>\n",
              "</div>"
            ],
            "text/plain": [
              "     GDP per capita  Social support  ...  Generosity  Perceptions of corruption\n",
              "0             1.305           1.592  ...       0.202                      0.393\n",
              "1             1.456           1.582  ...       0.286                      0.340\n",
              "2             1.351           1.590  ...       0.284                      0.408\n",
              "3             1.343           1.644  ...       0.353                      0.138\n",
              "4             1.420           1.549  ...       0.256                      0.357\n",
              "..              ...             ...  ...         ...                        ...\n",
              "151           0.442           1.073  ...       0.083                      0.064\n",
              "152           0.455           0.991  ...       0.270                      0.097\n",
              "153           0.337           0.608  ...       0.224                      0.106\n",
              "154           0.024           0.000  ...       0.218                      0.038\n",
              "155           0.091           0.627  ...       0.149                      0.076\n",
              "\n",
              "[156 rows x 6 columns]"
            ]
          },
          "metadata": {
            "tags": []
          },
          "execution_count": 23
        }
      ]
    },
    {
      "cell_type": "code",
      "metadata": {
        "id": "ZiwTOwkkjHPM",
        "outputId": "f97ff997-cccf-4964-b39e-c21de6c3c0b9",
        "colab": {
          "base_uri": "https://localhost:8080/"
        }
      },
      "source": [
        "Y=data_2018.iloc[:,0]\n",
        "Y"
      ],
      "execution_count": 35,
      "outputs": [
        {
          "output_type": "execute_result",
          "data": {
            "text/plain": [
              "0        1\n",
              "1        2\n",
              "2        3\n",
              "3        4\n",
              "4        5\n",
              "      ... \n",
              "151    152\n",
              "152    153\n",
              "153    154\n",
              "154    155\n",
              "155    156\n",
              "Name: Overall rank, Length: 156, dtype: int64"
            ]
          },
          "metadata": {
            "tags": []
          },
          "execution_count": 35
        }
      ]
    },
    {
      "cell_type": "code",
      "metadata": {
        "id": "pl0B-Psjjv9W"
      },
      "source": [
        "X_train, X_test, Y_train, Y_test = train_test_split(X,Y, random_state=0)"
      ],
      "execution_count": 36,
      "outputs": []
    },
    {
      "cell_type": "code",
      "metadata": {
        "id": "7kUfLhy6kctH",
        "outputId": "38e8ccdb-48c2-471b-a61a-f9243437824d",
        "colab": {
          "base_uri": "https://localhost:8080/",
          "height": 310
        }
      },
      "source": [
        "from sklearn import OneHotEncoder"
      ],
      "execution_count": 29,
      "outputs": [
        {
          "output_type": "error",
          "ename": "ImportError",
          "evalue": "ignored",
          "traceback": [
            "\u001b[0;31m---------------------------------------------------------------------------\u001b[0m",
            "\u001b[0;31mImportError\u001b[0m                               Traceback (most recent call last)",
            "\u001b[0;32m<ipython-input-29-5d00cf5de894>\u001b[0m in \u001b[0;36m<module>\u001b[0;34m()\u001b[0m\n\u001b[0;32m----> 1\u001b[0;31m \u001b[0;32mfrom\u001b[0m \u001b[0msklearn\u001b[0m \u001b[0;32mimport\u001b[0m \u001b[0mOneHotEncoder\u001b[0m\u001b[0;34m\u001b[0m\u001b[0;34m\u001b[0m\u001b[0m\n\u001b[0m",
            "\u001b[0;31mImportError\u001b[0m: cannot import name 'OneHotEncoder'",
            "",
            "\u001b[0;31m---------------------------------------------------------------------------\u001b[0;32m\nNOTE: If your import is failing due to a missing package, you can\nmanually install dependencies using either !pip or !apt.\n\nTo view examples of installing some common dependencies, click the\n\"Open Examples\" button below.\n\u001b[0;31m---------------------------------------------------------------------------\u001b[0m\n"
          ]
        }
      ]
    },
    {
      "cell_type": "code",
      "metadata": {
        "id": "y2YuBXZhlARm"
      },
      "source": [
        ""
      ],
      "execution_count": null,
      "outputs": []
    },
    {
      "cell_type": "markdown",
      "metadata": {
        "id": "k1sVhc6zkdAI"
      },
      "source": [
        "Since Y column has a categorical data type i.e Alphabetic value, it has to be converted into numeric using One HOt Encoding method "
      ]
    },
    {
      "cell_type": "code",
      "metadata": {
        "id": "oYVlzFOEkFqB",
        "outputId": "c35a0f45-a6fa-4bb7-a022-c350b405c90f",
        "colab": {
          "base_uri": "https://localhost:8080/"
        }
      },
      "source": [
        "lr = LinearRegression()\n",
        "lr.fit(X_train, Y_train)\n",
        "y_train_pred = lr.predict(X_train)\n",
        "y_train_pred\n",
        "\n"
      ],
      "execution_count": 40,
      "outputs": [
        {
          "output_type": "execute_result",
          "data": {
            "text/plain": [
              "array([ 56.9787598 ,  86.73338865, 147.04958999,  75.89153576,\n",
              "        31.62167424,  76.05864735,  40.45655823,  88.19786691,\n",
              "        52.81171926,  18.31565077, 139.02127547,  54.53189648,\n",
              "        97.86190194,  42.04940242, 163.80602022,  90.59965166,\n",
              "       109.67788329, 121.77601961,  61.61227681, 124.0574144 ,\n",
              "        74.95203354, 129.76325975,  77.32166434, 141.52055076,\n",
              "        64.05126962, 193.70808677, 130.00359343,  29.48331365,\n",
              "        70.53636667,  64.88839865, 121.39418174,  95.90837443,\n",
              "        66.40369146,  52.6777771 ,  80.77148431,  18.74021053,\n",
              "       104.92648526,  94.97491099,  34.53683209,  27.90870667,\n",
              "        74.18389141,  59.18351028,  36.1391848 ,  15.76623786,\n",
              "       177.51624157,  73.12574896,  22.53232498,  64.2016848 ,\n",
              "        94.64528933,  92.46848936, 124.74223135,  41.8765975 ,\n",
              "       106.47215354,  29.5746662 , 145.7304025 ,  81.00573408,\n",
              "       142.6213467 ,  47.13706938,  24.80719058, 131.34693129,\n",
              "        47.14257656,  41.76629763,  80.23860471,  14.06381354,\n",
              "       121.32658602, 164.88595841,  39.27156375,  82.9949572 ,\n",
              "        15.6132657 , 122.27457762,  31.51449813,  73.66441584,\n",
              "        50.00731528,  24.63528477,  27.00465248, 145.22214121,\n",
              "       107.08758957,  19.29405685,  68.61187391,  44.97342786,\n",
              "        57.26570798,  98.39794643,  30.48926067,  34.52669338,\n",
              "        59.88243382,  92.93105226, 117.79899222,  22.10669762,\n",
              "       151.33883476, 103.64500473, 128.81021127,  45.52139422,\n",
              "        69.58715206,  59.35230157,  55.31015743,  64.72939226,\n",
              "        61.870889  , 125.18991298,  65.03997567,  74.72007911,\n",
              "        39.78187206,  67.86777832, 139.74665059, 141.86148823,\n",
              "        76.90414289,  58.35108671, 117.83005776,  73.33490054,\n",
              "        68.89898539, 107.94594261,  58.35670305,  26.91102407,\n",
              "        20.84083638,  99.24703296,  65.80311233, 122.61035525,\n",
              "        59.94323289])"
            ]
          },
          "metadata": {
            "tags": []
          },
          "execution_count": 40
        }
      ]
    },
    {
      "cell_type": "code",
      "metadata": {
        "id": "-ZWIHc62kQ6u",
        "outputId": "1331071c-b90f-486e-c594-6a0e674be10e",
        "colab": {
          "base_uri": "https://localhost:8080/"
        }
      },
      "source": [
        "y_test_pred = lr.predict(X_test)\n",
        "y_test_pred"
      ],
      "execution_count": 42,
      "outputs": [
        {
          "output_type": "execute_result",
          "data": {
            "text/plain": [
              "array([ 42.62468697,  50.58499427,  45.55378731, 150.9873325 ,\n",
              "        55.48592993,  22.98340033,  49.50478787, 109.75706216,\n",
              "        92.97300408,  74.39654845, 109.38206431,  55.9741783 ,\n",
              "       110.35144193,  87.16754322,  60.4490256 , 163.85737142,\n",
              "        13.19390502,  79.15143164,  38.47489986,  97.63545178,\n",
              "        72.11079084,  21.17530204, 136.26785716,  53.32388837,\n",
              "        84.79778949, 112.33875738,  56.30614504,  38.78482354,\n",
              "        95.5847578 ,  64.18164113,  12.29844414,  48.75599857,\n",
              "       100.56498256, 140.28298772,  32.53306643,  76.11275656,\n",
              "        80.7321678 ,  85.36383429,  86.43781841])"
            ]
          },
          "metadata": {
            "tags": []
          },
          "execution_count": 42
        }
      ]
    },
    {
      "cell_type": "code",
      "metadata": {
        "id": "bBG8MAqPnVLG",
        "outputId": "9780873c-e542-4540-fe33-6ea60ab80834",
        "colab": {
          "base_uri": "https://localhost:8080/"
        }
      },
      "source": [
        "print(\"lr.coeff_:{}\".format(lr.coef_))\n",
        "print(\"le.intercept_:{}\".format(lr.intercept_))\n",
        "print(\"lr.train_score%.3f, lr_test_score:%.3f\"%(lr.score(X_train,Y_train),lr.score(X_test, Y_test)))"
      ],
      "execution_count": 43,
      "outputs": [
        {
          "output_type": "stream",
          "text": [
            "lr.coeff_:[-43.87720791 -36.71226593 -40.39074322 -66.28414537  10.33249652\n",
            "   0.63200427]\n",
            "le.intercept_:213.1052111305803\n",
            "lr.train_score0.813, lr_test_score:0.641\n"
          ],
          "name": "stdout"
        }
      ]
    },
    {
      "cell_type": "code",
      "metadata": {
        "id": "KuRJoJfhn6ve"
      },
      "source": [
        ""
      ],
      "execution_count": null,
      "outputs": []
    }
  ]
}